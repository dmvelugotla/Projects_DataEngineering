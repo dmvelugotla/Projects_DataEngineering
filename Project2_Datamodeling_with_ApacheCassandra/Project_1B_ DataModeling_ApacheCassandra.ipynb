{
 "cells": [
  {
   "cell_type": "markdown",
   "metadata": {},
   "source": [
    "# Part I. ETL Pipeline for Pre-Processing the Files"
   ]
  },
  {
   "cell_type": "markdown",
   "metadata": {},
   "source": [
    "## PLEASE RUN THE FOLLOWING CODE FOR PRE-PROCESSING THE FILES"
   ]
  },
  {
   "cell_type": "markdown",
   "metadata": {},
   "source": [
    "#### Import Python packages "
   ]
  },
  {
   "cell_type": "code",
   "execution_count": 1,
   "metadata": {},
   "outputs": [],
   "source": [
    "# Import Python packages \n",
    "import pandas as pd\n",
    "import cassandra\n",
    "import re\n",
    "import os\n",
    "import glob\n",
    "import numpy as np\n",
    "import json\n",
    "import csv\n",
    "from prettytable import PrettyTable  #prints output in tabular format"
   ]
  },
  {
   "cell_type": "markdown",
   "metadata": {},
   "source": [
    "#### Creating list of filepaths to process original event csv data files"
   ]
  },
  {
   "cell_type": "code",
   "execution_count": 2,
   "metadata": {},
   "outputs": [
    {
     "name": "stdout",
     "output_type": "stream",
     "text": [
      "/home/workspace\n"
     ]
    }
   ],
   "source": [
    "# checking your current working directory\n",
    "print(os.getcwd())\n",
    "\n",
    "# Get your current folder and subfolder event data\n",
    "filepath = os.getcwd() + '/event_data'\n",
    "\n",
    "# Create a for loop to create a list of files and collect each filepath\n",
    "for root, dirs, files in os.walk(filepath):\n",
    "    \n",
    "# join the file path and roots with the subdirectories using glob\n",
    "    file_path_list = glob.glob(os.path.join(root,'*'))\n",
    "    #pint(file_path_list)"
   ]
  },
  {
   "cell_type": "markdown",
   "metadata": {},
   "source": [
    "#### Processing the files to create the data file csv that will be used for Apache Casssandra tables"
   ]
  },
  {
   "cell_type": "code",
   "execution_count": 3,
   "metadata": {},
   "outputs": [],
   "source": [
    "# initiating an empty list of rows that will be generated from each file\n",
    "full_data_rows_list = [] \n",
    "    \n",
    "# for every filepath in the file path list \n",
    "for f in file_path_list:\n",
    "\n",
    "# reading csv file \n",
    "    with open(f, 'r', encoding = 'utf8', newline='') as csvfile: \n",
    "        # creating a csv reader object \n",
    "        csvreader = csv.reader(csvfile) \n",
    "        next(csvreader)\n",
    "        \n",
    " # extracting each data row one by one and append it        \n",
    "        for line in csvreader:\n",
    "            #print(line)\n",
    "            full_data_rows_list.append(line) \n",
    "            \n",
    "# uncomment the code below if you would like to get total number of rows \n",
    "# print(len(full_data_rows_list))\n",
    "# uncomment the code below if you would like to check to see what the list of event data rows will look like\n",
    "# print(full_data_rows_list)\n",
    "\n",
    "# creating a smaller event data csv file called event_datafile_full csv that will be used to insert data into the \\\n",
    "# Apache Cassandra tables\n",
    "csv.register_dialect('myDialect', quoting=csv.QUOTE_ALL, skipinitialspace=True)\n",
    "\n",
    "with open('event_datafile_new.csv', 'w', encoding = 'utf8', newline='') as f:\n",
    "    writer = csv.writer(f, dialect='myDialect')\n",
    "    writer.writerow(['artist','firstName','gender','itemInSession','lastName','length',\\\n",
    "                'level','location','sessionId','song','userId'])\n",
    "    for row in full_data_rows_list:\n",
    "        if (row[0] == ''):\n",
    "            continue\n",
    "        writer.writerow((row[0], row[2], row[3], row[4], row[5], row[6], row[7], row[8], row[12], row[13], row[16]))\n"
   ]
  },
  {
   "cell_type": "code",
   "execution_count": 4,
   "metadata": {},
   "outputs": [
    {
     "name": "stdout",
     "output_type": "stream",
     "text": [
      "6821\n"
     ]
    }
   ],
   "source": [
    "# check the number of rows in your csv file\n",
    "with open('event_datafile_new.csv', 'r', encoding = 'utf8') as f:\n",
    "    print(sum(1 for line in f))"
   ]
  },
  {
   "cell_type": "markdown",
   "metadata": {},
   "source": [
    "# Part II. Apache Cassandra coding portion of the project. \n",
    "\n",
    "## located within the Workspace directory.  The <font color=red>event_datafile_new.csv</font>  created above contains the following columns: \n",
    "- artist \n",
    "- firstName of user\n",
    "- gender of user\n",
    "- item number in session\n",
    "- last name of user\n",
    "- length of the song\n",
    "- level (paid or free song)\n",
    "- location of the user\n",
    "- sessionId\n",
    "- song title\n",
    "- userId\n",
    "\n",
    "Denormalized data sample result <font color=red>**event_datafile_new.csv**</font> from the code above:<br>\n",
    "\n",
    "<img src=\"images/image_event_datafile_new.jpg\">"
   ]
  },
  {
   "cell_type": "markdown",
   "metadata": {},
   "source": [
    "#### Creating a Cluster"
   ]
  },
  {
   "cell_type": "code",
   "execution_count": 5,
   "metadata": {},
   "outputs": [],
   "source": [
    "# This should make a connection to a Cassandra instance your local machine \n",
    "# (127.0.0.1)\n",
    "\n",
    "from cassandra.cluster import Cluster\n",
    "cluster = Cluster()\n",
    "\n",
    "# To establish connection and begin executing queries, need a session\n",
    "session = cluster.connect()"
   ]
  },
  {
   "cell_type": "markdown",
   "metadata": {},
   "source": [
    "#### Create Keyspace"
   ]
  },
  {
   "cell_type": "code",
   "execution_count": 6,
   "metadata": {},
   "outputs": [],
   "source": [
    "#Creating a Keyspace \n",
    "\n",
    "try: \n",
    "    session.execute(\"\"\"\n",
    "    CREATE KEYSPACE IF NOT EXISTS udacity_mv \n",
    "    WITH REPLICATION = {'class' : 'SimpleStrategy', 'replication_factor' : 1}\"\"\"\n",
    " )\n",
    "    \n",
    "except Expection as e:\n",
    "    print(e)                  \n",
    "                    "
   ]
  },
  {
   "cell_type": "markdown",
   "metadata": {},
   "source": [
    "#### Set Keyspace"
   ]
  },
  {
   "cell_type": "code",
   "execution_count": 7,
   "metadata": {},
   "outputs": [],
   "source": [
    "#Setting KEYSPACE to the keyspace specified above\n",
    "try:\n",
    "    session.set_keyspace('udacity_mv')\n",
    "\n",
    "except exception as e:\n",
    "    print(e)"
   ]
  },
  {
   "cell_type": "markdown",
   "metadata": {},
   "source": [
    "## Queries & Implementation"
   ]
  },
  {
   "cell_type": "markdown",
   "metadata": {},
   "source": [
    "### Addressing queries to ask the following three questions of the data\n",
    "\n",
    "#### 1. Give me the artist, song title and song's length in the music app history that was heard during  sessionId = 338, and itemInSession  = 4\n",
    "\n",
    "\n",
    "#### 2. Give me only the following: name of artist, song (sorted by itemInSession) and user (first and last name) for userid = 10, sessionid = 182\n",
    "    \n",
    "\n",
    "#### 3. Give me every user name (first and last) in my music app history who listened to the song 'All Hands Against His Own'\n",
    "\n",
    "\n"
   ]
  },
  {
   "cell_type": "markdown",
   "metadata": {},
   "source": [
    "## <font color=green>Implementation</font>"
   ]
  },
  {
   "cell_type": "markdown",
   "metadata": {},
   "source": [
    "<h3>Query 1: Give me the artist, song title and songs length in the music app history that was heard during sessionId = 338 and itemInSession = 4</h3>    "
   ]
  },
  {
   "cell_type": "markdown",
   "metadata": {},
   "source": [
    "### <font color=green>Solution #1</font>"
   ]
  },
  {
   "cell_type": "markdown",
   "metadata": {},
   "source": [
    "#### 1.1 Create table"
   ]
  },
  {
   "cell_type": "markdown",
   "metadata": {},
   "source": [
    "#### <font color = green>Primary key approach:</font> \n",
    " ##### <font color = green>Primary key -> combination of SessionId (Partition key) & iteminSession (Clustering column)</font>  \n",
    " ##### <font color = green>SessionId: unique value across a session making it an ideal candidate for a partition key </font>\n",
    " ##### <font color = green>IteminSession: As clustering column and in combination with SessionID will make each row</font> \n",
    " #####  <font color = green> unique at a session grain, thus making it the best primary key in this scenario. </font>  \n",
    "\n",
    " \n",
    "   "
   ]
  },
  {
   "cell_type": "code",
   "execution_count": 8,
   "metadata": {},
   "outputs": [],
   "source": [
    "## Query to retrieve song details (artist, title & length) based on Sessionid and iteminsession.\n",
    "\n",
    "query1 = (\"\"\"CREATE TABLE IF NOT EXISTS song_plays_bysession(\n",
    " sessionID INT\n",
    ",iteminSession INT\n",
    ",artist VARCHAR\n",
    ",song VARCHAR\n",
    ",length FLOAT\n",
    ",PRIMARY KEY((sessionid), iteminSession)\n",
    ")\n",
    "\"\"\")\n",
    "\n",
    "try: \n",
    "    session.execute(query1)\n",
    "    \n",
    "except exception as e: \n",
    "    print(e)"
   ]
  },
  {
   "cell_type": "markdown",
   "metadata": {},
   "source": [
    "#### 1.2 Insert data"
   ]
  },
  {
   "cell_type": "code",
   "execution_count": 9,
   "metadata": {
    "scrolled": false
   },
   "outputs": [],
   "source": [
    "## Insert data into the above table, from the event data file created earlier - 'event_datafile_new.csv'\n",
    "\n",
    "file = 'event_datafile_new.csv'\n",
    "\n",
    "with open(file, encoding = 'utf8') as f:\n",
    "    csvreader = csv.reader(f)\n",
    "    next(csvreader) # skip header\n",
    "    for line in csvreader:\n",
    "        \n",
    "## Assigning the INSERT statements into the `query` variable\n",
    "        query = \"INSERT INTO song_plays_bysession(sessionID, iteminSession, artist, song, length)\"\n",
    "        query = query + \"VALUES(%s, %s, %s, %s, %s)\"\n",
    "        \n",
    "        ## Assigning column element assigned (from the csv file) corresponding to each column in the INSERT statement.\n",
    "        session.execute(query, (int(line[8]), int(line[3]), line[0], line[9], float(line[5])))"
   ]
  },
  {
   "cell_type": "markdown",
   "metadata": {},
   "source": [
    "#### 1.3 Verify with Select statement"
   ]
  },
  {
   "cell_type": "code",
   "execution_count": 10,
   "metadata": {
    "scrolled": true
   },
   "outputs": [
    {
     "name": "stdout",
     "output_type": "stream",
     "text": [
      "+-----------+---------------------------------+--------------------+\n",
      "|   artist  |               song              |       length       |\n",
      "+-----------+---------------------------------+--------------------+\n",
      "| Faithless | Music Matters (Mark Knight Dub) | 495.30731201171875 |\n",
      "+-----------+---------------------------------+--------------------+\n"
     ]
    }
   ],
   "source": [
    "## Adding in the SELECT statement to verify the data was entered into the table and \n",
    " # addressing Q1: Qive me the artist,song title and song's length in the music app history \n",
    " # that was heard during sessionId = 338, and itemInSession = 4\n",
    "\n",
    "query1 = \"\"\"SELECT artist, song, length  \n",
    "           FROM song_plays_bysession\n",
    "           WHERE sessionID = 338\n",
    "            AND iteminSession = 4\n",
    "        \"\"\"\n",
    "try:\n",
    "    rows = session.execute(query1)\n",
    "    \n",
    "except Exception as e:\n",
    "    print(e)\n",
    "    \n",
    "#Print output in a tabular format using PrettyTable API\n",
    "t= PrettyTable()\n",
    "    \n",
    "\n",
    "#print result\n",
    "for row in rows:\n",
    "     t.field_names = ['artist','song', 'length']  #define column names\n",
    "     t.add_row([row.artist, row.song, row.length])  #iterating through the data in rows\n",
    "print(t)"
   ]
  },
  {
   "cell_type": "markdown",
   "metadata": {},
   "source": [
    "<h3>Query 2: Give me only the following: name of artist, song (sorted by itemInSession) and user (first and last name)for userid = 10, sessionid = 182<h3>"
   ]
  },
  {
   "cell_type": "markdown",
   "metadata": {},
   "source": [
    "### <font color=green>Solution #2</font>"
   ]
  },
  {
   "cell_type": "markdown",
   "metadata": {},
   "source": [
    "#### 2.1 Create table"
   ]
  },
  {
   "cell_type": "markdown",
   "metadata": {},
   "source": [
    "#### <font color = green> Primary key approach: </font>\n",
    " ##### <font color = green> Primary key -> combination of userid,  sessionid (composite partition key) & iteminSession (Clustering column) </font>\n",
    " ##### <font color = green> userid + sessionId:  Have a one to one relationship. Each user is assigned a unique value per session</font>\n",
    " ##### <font color = green> IteminSession: Assigning it as a clustering column and then combining it with userid + SessionID</font>\n",
    " ##### <font color = green>will make each row unique. The clustering column also comes sorted in ascending order( iteminsession) </font> \n",
    "\n",
    " "
   ]
  },
  {
   "cell_type": "code",
   "execution_count": 11,
   "metadata": {},
   "outputs": [],
   "source": [
    "## Query to retrieve artist and song(s) played by user in a particular session\n",
    "\n",
    "query2 = (\"\"\"CREATE TABLE IF NOT EXISTS songsplays_by_userandsession(\n",
    "  userid INT \n",
    " ,sessionid INT\n",
    " ,iteminSession INT\n",
    " ,firstname VARCHAR\n",
    " ,lastname VARCHAR\n",
    " ,artist VARCHAR\n",
    " ,song VARCHAR\n",
    " ,PRIMARY KEY((userid, sessionid), iteminsession)\n",
    ")\n",
    "\"\"\")\n",
    "\n",
    "try: \n",
    "    session.execute(query2)\n",
    "    \n",
    "except exception as e: \n",
    "    print(e)\n",
    "                    "
   ]
  },
  {
   "cell_type": "markdown",
   "metadata": {},
   "source": [
    "#### 2.2 Insert data"
   ]
  },
  {
   "cell_type": "code",
   "execution_count": 12,
   "metadata": {},
   "outputs": [],
   "source": [
    "## Insert data into the above table, from the event data file created earlier - 'event_datafile_new.csv'\n",
    "\n",
    "file = 'event_datafile_new.csv'\n",
    "\n",
    "with open(file, encoding = 'utf8') as f:\n",
    "    csvreader = csv.reader(f)\n",
    "    next(csvreader) # skip header\n",
    "    for line in csvreader:\n",
    "        \n",
    "## Assigning the INSERT statements into the `query` variable\n",
    "        query = \"INSERT INTO songsplays_by_userandsession(userid, sessionid, iteminSession, firstname, lastname,\\\n",
    "                 artist, song)\"\n",
    "        query = query + \"VALUES(%s, %s, %s, %s, %s, %s, %s)\"\n",
    "        \n",
    "        ## Assigning column element assigned (from the csv file) corresponding to each column in the INSERT statement\n",
    "        session.execute(query, (int(line[10]), int(line[8]), int(line[3]), line[1], line[4], line[0], line[9]))"
   ]
  },
  {
   "cell_type": "markdown",
   "metadata": {},
   "source": [
    "#### 2.3 Verify with Select statement"
   ]
  },
  {
   "cell_type": "code",
   "execution_count": 13,
   "metadata": {},
   "outputs": [
    {
     "name": "stdout",
     "output_type": "stream",
     "text": [
      "+-------------------+------------------------------------------------------+---------------+-----------+----------+\n",
      "|       artist      |                         song                         | iteminsession | firstname | lastname |\n",
      "+-------------------+------------------------------------------------------+---------------+-----------+----------+\n",
      "|  Down To The Bone |                  Keep On Keepin' On                  |       0       |   Sylvie  |   Cruz   |\n",
      "|    Three Drives   |                     Greece 2000                      |       1       |   Sylvie  |   Cruz   |\n",
      "| Sebastien Tellier |                      Kilometer                       |       2       |   Sylvie  |   Cruz   |\n",
      "|   Lonnie Gordon   | Catch You Baby (Steve Pitron & Max Sanna Radio Edit) |       3       |   Sylvie  |   Cruz   |\n",
      "+-------------------+------------------------------------------------------+---------------+-----------+----------+\n"
     ]
    }
   ],
   "source": [
    "## Adding in the SELECT statement to verify the data was entered into the table and\n",
    " # addressing Q2: Give me only the following: name of artist, song (sorted by itemInSession) and\n",
    " # user (first and last name) for userid = 10, sessionid = 182\n",
    "\n",
    "query2 = \"\"\"SELECT artist, song, iteminsession, firstname, lastname\n",
    "           FROM songsplays_by_userandsession\n",
    "           WHERE userid = 10\n",
    "            AND sessionid = 182\n",
    "         \"\"\"\n",
    "\n",
    "try:\n",
    "    rows = session.execute(query2)\n",
    "    \n",
    "except Exception as e:\n",
    "    print(e)\n",
    "\n",
    "#Print output in a tabular format using PrettyTable API\n",
    "t= PrettyTable()\n",
    "\n",
    "\n",
    "#print result    \n",
    "for row in rows:\n",
    "      t.field_names= ['artist','song', 'iteminsession', 'firstname', 'lastname'] #define column names\n",
    "      t.add_row([row.artist, row.song, row.iteminsession, row.firstname, row.lastname]) #iterating through the data in rows\n",
    "print(t)"
   ]
  },
  {
   "cell_type": "markdown",
   "metadata": {},
   "source": [
    "<h3>Query 3: Give me every user name (first and last) in my music app history who listened to the song \n",
    "'All Hands Against His Own'<h3>"
   ]
  },
  {
   "cell_type": "markdown",
   "metadata": {},
   "source": [
    "### <font color=green>Solution #3</font>"
   ]
  },
  {
   "cell_type": "markdown",
   "metadata": {},
   "source": [
    "#### 3.1 Create table"
   ]
  },
  {
   "cell_type": "markdown",
   "metadata": {},
   "source": [
    "#### <font color = green> Primary key approach: </font>\n",
    " ##### <font color = green> Primary key -> combination of song (partition key) & userid (Clustering column) </font>\n",
    " ##### <font color = green> Song: Since we want to extract the data by users who listened to a particular song, 'song'  would be the best candidate for a partition key</font>\n",
    " ##### <font color = green> userid: Combining it with partition key above, will make it unique to each row at a song-userid grain</font>\n",
    " "
   ]
  },
  {
   "cell_type": "code",
   "execution_count": 14,
   "metadata": {},
   "outputs": [],
   "source": [
    "## Query based on Users who listened to a given song\n",
    "query3 = (\"\"\"CREATE TABLE IF NOT EXISTS users_bysongs(\n",
    "  userid INT \n",
    " ,firstname VARCHAR\n",
    " ,lastname VARCHAR\n",
    " ,artist VARCHAR\n",
    " ,song VARCHAR\n",
    " ,PRIMARY KEY((song), userid)\n",
    ")\n",
    "\"\"\")\n",
    "\n",
    "try: \n",
    "    session.execute(query3)\n",
    "    \n",
    "except exception as e: \n",
    "    print(e)\n",
    "\n",
    "                    "
   ]
  },
  {
   "cell_type": "markdown",
   "metadata": {},
   "source": [
    "#### 3.2 Insert data"
   ]
  },
  {
   "cell_type": "code",
   "execution_count": 15,
   "metadata": {},
   "outputs": [],
   "source": [
    "## Insert data into the above table, from the event data file created earlier - 'event_datafile_new.csv'\n",
    "file = 'event_datafile_new.csv'\n",
    "\n",
    "with open(file, encoding = 'utf8') as f:\n",
    "    csvreader = csv.reader(f)\n",
    "    next(csvreader) # skip header\n",
    "    for line in csvreader:\n",
    "        \n",
    "##Assigning the INSERT statements into the `query` variable\n",
    "        query = \"INSERT INTO users_bysongs(userid, firstname, lastname, artist, song)\"\n",
    "        query = query + \"VALUES(%s, %s, %s, %s, %s)\"\n",
    "        \n",
    "        ## Assigning column element assigned (from the csv file) corresponding to each column in the INSERT statement.\n",
    "        session.execute(query, (int(line[10]), line[1], line[4], line[0], line[9]))\n"
   ]
  },
  {
   "cell_type": "markdown",
   "metadata": {},
   "source": [
    "#### 3.3 Verify with Select statement"
   ]
  },
  {
   "cell_type": "code",
   "execution_count": 16,
   "metadata": {},
   "outputs": [
    {
     "name": "stdout",
     "output_type": "stream",
     "text": [
      "+------------+----------+\n",
      "| firstname  | lastname |\n",
      "+------------+----------+\n",
      "| Jacqueline |  Lynch   |\n",
      "|   Tegan    |  Levine  |\n",
      "|    Sara    | Johnson  |\n",
      "+------------+----------+\n"
     ]
    }
   ],
   "source": [
    "## Adding in the SELECT statement to verify the data was entered into the table and address Q3: Give me every user name \n",
    " # (first and last) in my music app history who listened to the song 'All Hands Against His Own'\n",
    "\n",
    "query3 = \"\"\"SELECT firstname, lastname\n",
    "           FROM users_bysongs\n",
    "           WHERE song = %s\n",
    "         \"\"\"\n",
    "\n",
    "parameter1 = ('All Hands Against His Own',)\n",
    "\n",
    "\n",
    "try:\n",
    "    rows = session.execute(query3, parameter1)\n",
    "    \n",
    "except Exception as e:\n",
    "    print(e)\n",
    "\n",
    "#Print output in a tabular format using PrettyTable API\n",
    "t= PrettyTable()\n",
    "\n",
    "#print result \n",
    "for row in rows:\n",
    "    t.field_names = ['firstname', 'lastname'] #define column names\n",
    "    t.add_row([row.firstname, row.lastname]) #iterating through the data in rows\n",
    "    \n",
    "print(t)\n"
   ]
  },
  {
   "cell_type": "markdown",
   "metadata": {},
   "source": [
    "### Drop the tables before closing out the sessions"
   ]
  },
  {
   "cell_type": "code",
   "execution_count": 17,
   "metadata": {},
   "outputs": [],
   "source": [
    "#Table1\n",
    "query = \"DROP TABLE IF EXISTS song_plays_bysession\"\n",
    "try:\n",
    "    rows = session.execute(query)\n",
    "    \n",
    "except Exception as e:\n",
    "    print(e)      \n",
    "   "
   ]
  },
  {
   "cell_type": "code",
   "execution_count": 18,
   "metadata": {},
   "outputs": [],
   "source": [
    "#Table2\n",
    "query = \"DROP TABLE IF EXISTS songsplays_by_userandsession\"\n",
    "try:\n",
    "    rows = session.execute(query)\n",
    "    \n",
    "except Exception as e:\n",
    "    print(e)    "
   ]
  },
  {
   "cell_type": "code",
   "execution_count": 19,
   "metadata": {},
   "outputs": [],
   "source": [
    "#Table3\n",
    "query = \"DROP TABLE IF EXISTS users_bysongs\"\n",
    "try:\n",
    "    rows = session.execute(query)\n",
    "    \n",
    "except Exception as e:\n",
    "    print(e)  "
   ]
  },
  {
   "cell_type": "markdown",
   "metadata": {},
   "source": [
    "### Close the session and cluster connection¶"
   ]
  },
  {
   "cell_type": "code",
   "execution_count": 20,
   "metadata": {},
   "outputs": [],
   "source": [
    "session.shutdown()\n",
    "cluster.shutdown()"
   ]
  }
 ],
 "metadata": {
  "kernelspec": {
   "display_name": "Python 3",
   "language": "python",
   "name": "python3"
  },
  "language_info": {
   "codemirror_mode": {
    "name": "ipython",
    "version": 3
   },
   "file_extension": ".py",
   "mimetype": "text/x-python",
   "name": "python",
   "nbconvert_exporter": "python",
   "pygments_lexer": "ipython3",
   "version": "3.6.3"
  }
 },
 "nbformat": 4,
 "nbformat_minor": 2
}
